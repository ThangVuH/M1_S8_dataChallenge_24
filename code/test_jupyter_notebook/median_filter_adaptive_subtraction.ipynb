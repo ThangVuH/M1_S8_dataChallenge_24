{
 "cells": [
  {
   "cell_type": "code",
   "execution_count": 2,
   "metadata": {},
   "outputs": [],
   "source": [
    "import cv2\n",
    "import numpy as np\n",
    "import pandas as pd\n",
    "import matplotlib.pyplot as plt\n",
    "from utilities import save_video_from_images"
   ]
  },
  {
   "cell_type": "code",
   "execution_count": 6,
   "metadata": {},
   "outputs": [],
   "source": [
    "dataset_location = '../dataset/' # put the root or relative path to your dataset here\n",
    "\n",
    "scene_df1 = pd.read_hdf(dataset_location + 'scene.hdf5')\n",
    "scene_df2 = pd.read_hdf(dataset_location + 'scene2.hdf5')\n",
    "scene_df3 = pd.read_hdf(dataset_location + 'scene3.hdf5')\n",
    "car_scene_df1 = pd.read_hdf(dataset_location + 'car_scene.hdf5')\n",
    "car_scene_df2 = pd.read_hdf(dataset_location + 'car_scene2.hdf5')\n",
    "car_scene_df3 = pd.read_hdf(dataset_location + 'car_scene3.hdf5')"
   ]
  },
  {
   "cell_type": "code",
   "execution_count": 26,
   "metadata": {},
   "outputs": [],
   "source": [
    "def compute_median_background(frames):\n",
    "    median_frame = np.median(frames, axis=0)\n",
    "    return median_frame\n",
    "\n",
    "def subtract_background(frames, background):\n",
    "    return frames - background\n",
    "\n",
    "def morphological_operations(frame):\n",
    "    kernel = np.ones((5,5), np.uint8)\n",
    "    eroded = cv2.erode(frame, kernel, iterations=1)\n",
    "    dilated = cv2.dilate(eroded, kernel, iterations=1)\n",
    "    return dilated"
   ]
  },
  {
   "cell_type": "code",
   "execution_count": 28,
   "metadata": {},
   "outputs": [],
   "source": [
    "# scene_df1, scene_df2, scene_df3, car_scene_df1, car_scene_df2, car_scene_df3\n",
    "all_scenes = [car_scene_df1]\n",
    "\n",
    "for i, scene in enumerate(all_scenes):\n",
    "    frames = np.array([np.array(frame) for frame in scene['image'].values])\n",
    "\n",
    "    background_median = compute_median_background(frames)\n",
    "    denoised_frames = subtract_background(frames, background_median)\n",
    "    \n",
    "    location = \"median_filter_adaptive/\"\n",
    "    name = f\"scene{i+1}.avi\" if i < 3 else f\"car_scene{i-2}.avi\"\n",
    "    save_video_from_images(denoised_frames, location + name)"
   ]
  }
 ],
 "metadata": {
  "kernelspec": {
   "display_name": "pythonProject",
   "language": "python",
   "name": "python3"
  },
  "language_info": {
   "codemirror_mode": {
    "name": "ipython",
    "version": 3
   },
   "file_extension": ".py",
   "mimetype": "text/x-python",
   "name": "python",
   "nbconvert_exporter": "python",
   "pygments_lexer": "ipython3",
   "version": "3.10.14"
  }
 },
 "nbformat": 4,
 "nbformat_minor": 2
}
