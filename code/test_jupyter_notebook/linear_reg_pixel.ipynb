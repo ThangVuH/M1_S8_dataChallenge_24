{
 "cells": [
  {
   "cell_type": "markdown",
   "id": "c6aa1d6a",
   "metadata": {},
   "source": [
    "**Linear regression  by pixel on camera sensor temperature gain and offset with black body temp as an additional feature.**"
   ]
  },
  {
   "cell_type": "code",
   "execution_count": null,
   "id": "4b1e7b0d",
   "metadata": {},
   "outputs": [],
   "source": [
    "import cv2\n",
    "import numpy as np\n",
    "import pandas as pd\n",
    "import matplotlib.pyplot as plt\n",
    "from sklearn.linear_model import LinearRegression"
   ]
  },
  {
   "cell_type": "code",
   "execution_count": null,
   "id": "b032ef24",
   "metadata": {},
   "outputs": [],
   "source": [
    "dataset_location = '../dataset/' # put the root or relative path to your dataset here"
   ]
  },
  {
   "cell_type": "code",
   "execution_count": null,
   "id": "ea4fc024",
   "metadata": {},
   "outputs": [],
   "source": [
    "scene_df = pd.read_hdf('scene.hdf5')\n",
    "calibration_df = pd.read_hdf('calibration_set_2.hdf5')"
   ]
  },
  {
   "cell_type": "code",
   "execution_count": null,
   "id": "363ebcda",
   "metadata": {},
   "outputs": [],
   "source": [
    "# Function to estimate offset and responsivity\n",
    "def estimate_parameters(calibration_images, calibration_temperatures):\n",
    "    height, width = calibration_images[0].shape\n",
    "    num_pixels = height * width\n",
    "    \n",
    "    # Reshape images for linear regression\n",
    "    images_reshaped = np.array([img.ravel() for img in calibration_images])\n",
    "    \n",
    "    offsets = np.zeros(num_pixels)\n",
    "    responsivities = np.zeros((num_pixels, calibration_temperatures.shape[1]))  # Adjust for multiple features\n",
    "    \n",
    "    for i in range(num_pixels):\n",
    "        model = LinearRegression().fit(calibration_temperatures, images_reshaped[:, i])\n",
    "        offsets[i] = model.intercept_\n",
    "        responsivities[i, :] = model.coef_\n",
    "    \n",
    "    # Reshape back to original image shape\n",
    "    offsets = offsets.reshape(height, width)\n",
    "    responsivities = responsivities.reshape(height, width, -1)  # Adjust for multiple features\n",
    "    \n",
    "    return offsets, responsivities"
   ]
  },
  {
   "cell_type": "code",
   "execution_count": null,
   "id": "9c389ae6",
   "metadata": {},
   "outputs": [],
   "source": [
    "# Ensure all images are correctly typed\n",
    "scene_df['image'] = scene_df['image'].apply(lambda img: img.astype(np.float32))\n",
    "calibration_df['image'] = calibration_df['image'].apply(lambda img: img.astype(np.float32))\n",
    "\n",
    "# Process each scene image\n",
    "calibration_images = calibration_df['image'].values\n",
    "calibration_temperatures = np.vstack((calibration_df['t_fpa'].values, calibration_df['t_cn'].values)).T\n",
    "\n"
   ]
  },
  {
   "cell_type": "code",
   "execution_count": null,
   "id": "12385427",
   "metadata": {},
   "outputs": [],
   "source": [
    "print(calibration_temperatures)"
   ]
  },
  {
   "cell_type": "code",
   "execution_count": null,
   "id": "677ccec7",
   "metadata": {},
   "outputs": [],
   "source": [
    "offsets, gains = estimate_parameters(calibration_images, calibration_temperatures)"
   ]
  },
  {
   "cell_type": "code",
   "execution_count": null,
   "id": "a18238d6",
   "metadata": {},
   "outputs": [],
   "source": [
    "gains.shape\n",
    "#offsets.shape"
   ]
  },
  {
   "cell_type": "code",
   "execution_count": null,
   "id": "ffd9814d",
   "metadata": {},
   "outputs": [],
   "source": [
    "# Function to apply the correction to each scene image\n",
    "def apply_correction(scene_image, offsets, responsivities, scene_temp, avg_black_body_temp):\n",
    "    height, width = scene_image.shape\n",
    "    corrected_image = np.zeros_like(scene_image)\n",
    "    \n",
    "    for i in range(height):\n",
    "        for j in range(width):\n",
    "            intercept = offsets[i, j]\n",
    "            coef_fpa = responsivities[i, j, 0]\n",
    "            coef_cn = responsivities[i, j, 1]\n",
    "            expected_value = intercept + coef_fpa * scene_temp + coef_cn * avg_black_body_temp\n",
    "            corrected_image[i, j] = scene_image[i, j] - expected_value\n",
    "    \n",
    "    return corrected_image\n",
    "\n",
    "# Calculate the average black body temperature from calibration data\n",
    "avg_black_body_temp = calibration_df['t_cn'].mean()\n",
    "\n",
    "# Process each scene image\n",
    "corrected_scene_images = []\n",
    "for index, row in scene_df.iterrows():\n",
    "    scene_image = row['image']\n",
    "    scene_temp = row['t_fpa']\n",
    "    corrected_image = apply_correction(scene_image, offsets, gains, scene_temp, avg_black_body_temp)\n",
    "    corrected_scene_images.append(corrected_image)\n",
    "\n",
    "# Convert corrected_scene_images to numpy array\n",
    "corrected_scene_images = np.array(corrected_scene_images)"
   ]
  },
  {
   "cell_type": "code",
   "execution_count": null,
   "id": "ffc7d967",
   "metadata": {},
   "outputs": [],
   "source": [
    "index = 15  # Index of the image to display\n",
    "\n",
    "plt.figure(figsize=(10, 5))\n",
    "\n",
    "# Original scene image\n",
    "plt.subplot(1, 2, 1)\n",
    "plt.title(\"Original Scene Image\")\n",
    "plt.imshow(scene_df['image'][index], cmap='gray')\n",
    "plt.colorbar()\n",
    "\n",
    "# Denoised scene image\n",
    "plt.subplot(1, 2, 2)\n",
    "plt.title(\"Denoised Scene Image\")\n",
    "plt.imshow(corrected_scene_images[index], cmap='gray')\n",
    "plt.colorbar()\n",
    "\n",
    "plt.show()"
   ]
  },
  {
   "cell_type": "code",
   "execution_count": null,
   "id": "9e32a94a",
   "metadata": {},
   "outputs": [],
   "source": [
    "def save_video_from_images(images, output_filename, fps=60):\n",
    "    \"\"\"\n",
    "    Save a sequence of images as a video.\n",
    "\n",
    "    Parameters:\n",
    "    images (list or array): List or array of images (each image should be a 2D or 3D NumPy array).\n",
    "    output_filename (str): Output video filename (e.g., 'output.avi').\n",
    "    fps (int): Frames per second for the video.\n",
    "    \"\"\"\n",
    "    # Get the dimensions of the images\n",
    "    height, width = images[0].shape[:2]\n",
    "\n",
    "    # Define the codec and create VideoWriter object\n",
    "    fourcc = cv2.VideoWriter_fourcc(*'XVID')\n",
    "    out = cv2.VideoWriter(output_filename, fourcc, fps, (width, height))\n",
    "\n",
    "    for img in images:\n",
    "        # Ensure image is in the correct format (uint8)\n",
    "        img_uint8 = cv2.normalize(img, None, 0, 255, cv2.NORM_MINMAX).astype('uint8')\n",
    "        # If the image is grayscale, convert it to BGR\n",
    "        if len(img_uint8.shape) == 2:\n",
    "            img_uint8 = cv2.cvtColor(img_uint8, cv2.COLOR_GRAY2BGR)\n",
    "        out.write(img_uint8)\n",
    "\n",
    "    # Release everything when the job is finished\n",
    "    out.release()\n",
    "\n",
    "output_filename = 'output-pixel-lr-cn.avi'\n",
    "save_video_from_images(corrected_scene_images, output_filename)"
   ]
  }
 ],
 "metadata": {
  "kernelspec": {
   "display_name": "phelma",
   "language": "python",
   "name": "python3"
  },
  "language_info": {
   "codemirror_mode": {
    "name": "ipython",
    "version": 3
   },
   "file_extension": ".py",
   "mimetype": "text/x-python",
   "name": "python",
   "nbconvert_exporter": "python",
   "pygments_lexer": "ipython3",
   "version": "3.10.13"
  }
 },
 "nbformat": 4,
 "nbformat_minor": 5
}
