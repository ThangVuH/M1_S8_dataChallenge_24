{
 "cells": [
  {
   "cell_type": "code",
   "execution_count": 6,
   "metadata": {},
   "outputs": [],
   "source": [
    "import numpy as np\n",
    "import pandas as pd\n",
    "import cv2\n",
    "from utilities import save_video_from_images"
   ]
  },
  {
   "cell_type": "code",
   "execution_count": 3,
   "metadata": {},
   "outputs": [],
   "source": [
    "dataset_location = '../dataset/' # put the root or relative path to your dataset here"
   ]
  },
  {
   "cell_type": "code",
   "execution_count": 5,
   "metadata": {},
   "outputs": [],
   "source": [
    "scene_df1 = pd.read_hdf(dataset_location + 'scene.hdf5')\n",
    "scene_df2 = pd.read_hdf(dataset_location + 'scene2.hdf5')\n",
    "scene_df3 = pd.read_hdf(dataset_location + 'scene3.hdf5')\n",
    "car_scene_df1 = pd.read_hdf(dataset_location + 'car_scene.hdf5')\n",
    "car_scene_df2 = pd.read_hdf(dataset_location + 'car_scene2.hdf5')\n",
    "car_scene_df3 = pd.read_hdf(dataset_location + 'car_scene3.hdf5')"
   ]
  },
  {
   "cell_type": "code",
   "execution_count": 11,
   "metadata": {},
   "outputs": [],
   "source": [
    "def filter_frequency_domain(frames, cutoff_frequency=30):\n",
    "    denoised_frames = []\n",
    "    for frame in frames:\n",
    "        dft = cv2.dft(np.float32(frame), flags=cv2.DFT_COMPLEX_OUTPUT)\n",
    "        dft_shift = np.fft.fftshift(dft)\n",
    "        \n",
    "        rows, cols = frame.shape\n",
    "        crow, ccol = rows // 2, cols // 2\n",
    "        \n",
    "        mask = np.zeros((rows, cols, 2), np.uint8)\n",
    "        mask[crow - cutoff_frequency:crow + cutoff_frequency, ccol - cutoff_frequency:ccol + cutoff_frequency] = 1\n",
    "        \n",
    "        fshift = dft_shift * mask\n",
    "        f_ishift = np.fft.ifftshift(fshift)\n",
    "        img_back = cv2.idft(f_ishift)\n",
    "        img_back = cv2.magnitude(img_back[:, :, 0], img_back[:, :, 1])\n",
    "        \n",
    "        denoised_frames.append(img_back)\n",
    "    \n",
    "    return denoised_frames"
   ]
  },
  {
   "cell_type": "code",
   "execution_count": 12,
   "metadata": {},
   "outputs": [],
   "source": [
    "all_scenes = [scene_df1, scene_df2, scene_df3, car_scene_df1, car_scene_df2, car_scene_df3]\n",
    "\n",
    "for i, scene in enumerate(all_scenes):\n",
    "    frames = scene['image'].values\n",
    "    frames = np.array([np.array(frame) for frame in frames])\n",
    "    denoised = filter_frequency_domain(frames)\n",
    "    location = \"frequency_filtering/\"\n",
    "    name = f\"scene{i+1}.avi\" if i < 3 else f\"car_scene{i-2}.avi\"\n",
    "    save_video_from_images(denoised, location + name)"
   ]
  }
 ],
 "metadata": {
  "kernelspec": {
   "display_name": "pythonProject",
   "language": "python",
   "name": "python3"
  },
  "language_info": {
   "codemirror_mode": {
    "name": "ipython",
    "version": 3
   },
   "file_extension": ".py",
   "mimetype": "text/x-python",
   "name": "python",
   "nbconvert_exporter": "python",
   "pygments_lexer": "ipython3",
   "version": "3.10.14"
  }
 },
 "nbformat": 4,
 "nbformat_minor": 2
}
