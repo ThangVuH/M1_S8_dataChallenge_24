{
 "cells": [
  {
   "cell_type": "code",
   "execution_count": 1,
   "metadata": {},
   "outputs": [],
   "source": [
    "import cv2\n",
    "import numpy as np\n",
    "import pandas as pd\n",
    "import matplotlib.pyplot as plt\n",
    "import torch\n",
    "import pickle"
   ]
  },
  {
   "cell_type": "markdown",
   "metadata": {},
   "source": [
    "Essential to run all this section: load the pickl of our experiment -- make sure to change the path ;) \n",
    "\n",
    "You can print level on and level two keys in case you have a doubt (cell 5) one can use these list to loop over the dataset  \n",
    "- Level 1 will let you chose which method you want to see: raw, or method 1, 2, or 3  (corresponding to each level of challenge)\n",
    "- Level 2 which of the 6 sequences\n"
   ]
  },
  {
   "cell_type": "code",
   "execution_count": 2,
   "metadata": {},
   "outputs": [],
   "source": [
    "def load_dict_of_dicts_pickle(filename):\n",
    "    with open(filename, 'rb') as f:\n",
    "        return pickle.load(f)"
   ]
  },
  {
   "cell_type": "code",
   "execution_count": 3,
   "metadata": {},
   "outputs": [],
   "source": [
    "data = load_dict_of_dicts_pickle(r\"C:\\Users\\WillQuantique\\OneDrive - univ-lyon2.fr\\Fac\\M1\\DataChallege\\git\\M1_S8_dataChallenge_24\\code\\test_jupyter_notebook\\data_for_metrics.pkl\")"
   ]
  },
  {
   "cell_type": "code",
   "execution_count": 4,
   "metadata": {},
   "outputs": [],
   "source": [
    "level_one_keys = list(data.keys())\n",
    "level_two_keys =[]\n",
    "for k in level_one_keys:\n",
    "    level_two_keys.extend(list(data[k].keys()))\n",
    "level_two_keys = set(level_two_keys)"
   ]
  },
  {
   "cell_type": "code",
   "execution_count": 5,
   "metadata": {},
   "outputs": [
    {
     "name": "stdout",
     "output_type": "stream",
     "text": [
      "['method_1', 'method_2', 'method_3', 'raw']\n",
      "{'car_scene_2', 'scene_1', 'car_scene_3', 'scene_3', 'car_scene_1', 'scene_2'}\n"
     ]
    }
   ],
   "source": [
    "print(level_one_keys)\n",
    "print(level_two_keys)"
   ]
  },
  {
   "cell_type": "code",
   "execution_count": 9,
   "metadata": {},
   "outputs": [],
   "source": [
    "\n",
    "def compartive_metrics_loop_(data, method: str,function, idx:int = 0 ):\n",
    "    \"\"\"\n",
    "    takes the name of a method (string) and a function\n",
    "    will measure and return a comparative mettric betwenn raw image and filtered image of index idx\n",
    "    in tha sequence.\n",
    "    theresults are returned in a list\n",
    "    if idx is none will compare the two complete sequences\n",
    "    \"\"\"\n",
    "\n",
    "    raw_images = data[\"raw\"]\n",
    "    method = data[method]\n",
    "\n",
    "    featured = {}\n",
    "    if idx is not None:\n",
    "        for k in level_two_keys:\n",
    "            raw_pic = raw_images[k][idx]\n",
    "            cal_pic = method[k][idx]\n",
    "            featured.update({k:function(raw_pic, cal_pic)})\n",
    "    else:\n",
    "        for k in level_two_keys:\n",
    "            raw_seq = raw_images[k]\n",
    "            cal_seq = method[k]\n",
    "            featured.update({k:function(raw_seq, cal_seq)})\n",
    "    return featured"
   ]
  },
  {
   "cell_type": "code",
   "execution_count": 10,
   "metadata": {},
   "outputs": [],
   "source": [
    "def single_metrics_loop_(data, method: str,function, idx:int = 0 ):\n",
    "    \"\"\"\n",
    "    same as the previous one but for non comparative metrics\n",
    "    \"\"\"\n",
    "    method = data[method]\n",
    "\n",
    "    featured = {}\n",
    "    if idx is not None:\n",
    "        for k in level_two_keys:\n",
    "            pic = method[k][idx]\n",
    "            featured.update({k:function(pic)})\n",
    "    else:\n",
    "        for k in level_two_keys:\n",
    "            seq = method[k]\n",
    "            featured.update({k:function(seq)})\n",
    "    return featured"
   ]
  },
  {
   "cell_type": "markdown",
   "metadata": {},
   "source": [
    "### Metrics\n",
    "\n",
    "Store all your metrics in this section"
   ]
  },
  {
   "cell_type": "markdown",
   "metadata": {},
   "source": [
    "#### Simple metric"
   ]
  },
  {
   "cell_type": "code",
   "execution_count": null,
   "metadata": {},
   "outputs": [],
   "source": [
    "def calculate_metrics(original_image, corrected_image):\n",
    "    var = np.var(corrected_image)\n",
    "    mean_pixel_value = np.mean(corrected_image)\n",
    "    std_deviation = np.std(corrected_image)\n",
    "    nues = (std_deviation / mean_pixel_value) * 100\n",
    "    roughness = np.sum(np.abs(np.diff(corrected_image, axis=0))) + np.sum(np.abs(np.diff(corrected_image, axis=1)))\n",
    "    mse = np.mean((original_image - corrected_image) ** 2)\n",
    "    max_pixel_value = 2**14 - 1  # 14-bit images\n",
    "    psnr = 10 * np.log10(max_pixel_value**2 / mse)\n",
    "\n",
    "    return {\n",
    "        'Variance': var,\n",
    "        'NUES': nues,\n",
    "        'Roughness Index': roughness,\n",
    "        'PSNR': psnr\n",
    "    }"
   ]
  },
  {
   "cell_type": "markdown",
   "metadata": {},
   "source": [
    "#### Count feature"
   ]
  },
  {
   "cell_type": "code",
   "execution_count": 12,
   "metadata": {},
   "outputs": [],
   "source": [
    "def count_features(image: np.ndarray) -> int:\n",
    "    if image is None or image.size == 0:\n",
    "        return 0\n",
    "    if len(image.shape) != 2:\n",
    "        return 0\n",
    "    \n",
    "    # Convert to uint8 if not already\n",
    "    if image.dtype != np.uint8:\n",
    "        image = cv2.normalize(image, None, 0, 255, cv2.NORM_MINMAX).astype(np.uint8)\n",
    "    \n",
    "    orb = cv2.ORB_create()\n",
    "    keypoints = orb.detect(image, None)\n",
    "    return len(keypoints)\n",
    "\n",
    "def feature_ratio(raw,filtered):\n",
    "    return count_features(filtered)/count_features(raw)"
   ]
  },
  {
   "cell_type": "code",
   "execution_count": null,
   "metadata": {},
   "outputs": [],
   "source": [
    "from skimage.feature import hog\n",
    "from skimage import exposure\n",
    "\n",
    "def count_features_hog(image: np.ndarray) -> int:\n",
    "    if image is None or image.size == 0:\n",
    "        return 0\n",
    "    if len(image.shape) != 2:\n",
    "        return 0\n",
    "\n",
    "    # Convert to uint8 if not already\n",
    "    if image.dtype != np.uint8:\n",
    "        image = cv2.normalize(image, None, 0, 255, cv2.NORM_MINMAX).astype(np.uint8)\n",
    "\n",
    "    # Compute HOG features and HOG image\n",
    "    features, hog_image = hog(image, orientations=9, pixels_per_cell=(8, 8),\n",
    "                              cells_per_block=(2, 2), block_norm='L2-Hys',\n",
    "                              visualize=True, transform_sqrt=True, feature_vector=True)\n",
    "\n",
    "    return len(features)\n",
    "\n",
    "def feature_ratio_hog(raw, filtered):\n",
    "    return count_features_hog(filtered) / count_features_hog(raw)"
   ]
  },
  {
   "cell_type": "markdown",
   "metadata": {},
   "source": [
    "#### contrast noise ratio"
   ]
  },
  {
   "cell_type": "code",
   "execution_count": null,
   "metadata": {},
   "outputs": [],
   "source": [
    "def contrast_to_noise_ratio(image, object_mask, background_mask):\n",
    "    \"\"\"\n",
    "    Calculate the Contrast-to-Noise Ratio (CNR) of an image.\n",
    "    \n",
    "    Parameters:\n",
    "    image (torch.Tensor): Input image as a PyTorch tensor.\n",
    "    object_mask (torch.Tensor): Boolean mask for the object region.\n",
    "    background_mask (torch.Tensor): Boolean mask for the background region.\n",
    "    \n",
    "    Returns:\n",
    "    float: The CNR value.\n",
    "    \"\"\"\n",
    "    # Ensure the masks are boolean tensors\n",
    "    object_mask = object_mask.bool()\n",
    "    background_mask = background_mask.bool()\n",
    "    \n",
    "    # Calculate mean intensities\n",
    "    mu_object = torch.mean(image[object_mask])\n",
    "    mu_background = torch.mean(image[background_mask])\n",
    "    \n",
    "    # Calculate standard deviation of the background\n",
    "    sigma_background = torch.std(image[background_mask])\n",
    "    \n",
    "    # Compute CNR\n",
    "    cnr = torch.abs(mu_object - mu_background) / sigma_background\n",
    "    return cnr.item()\n",
    "\n",
    "\n",
    "# #use\n",
    "# index = 350\n",
    "# scene =...\n",
    "# corrected_scene = ...\n",
    "# image = torch.tensor(scene[index])  # Your image tensor\n",
    "# object_mask = torch.tensor(filter)  # Your object mask tensor\n",
    "# background_mask = torch.tensor(corrected_scene[index])  # Your background mask tensor\n",
    "\n",
    "# cnr_value = contrast_to_noise_ratio(image, object_mask, background_mask)\n",
    "# print(f\"CNR: {cnr_value}\")"
   ]
  }
 ],
 "metadata": {
  "kernelspec": {
   "display_name": "pythonProject",
   "language": "python",
   "name": "python3"
  },
  "language_info": {
   "codemirror_mode": {
    "name": "ipython",
    "version": 3
   },
   "file_extension": ".py",
   "mimetype": "text/x-python",
   "name": "python",
   "nbconvert_exporter": "python",
   "pygments_lexer": "ipython3",
   "version": "3.10.14"
  }
 },
 "nbformat": 4,
 "nbformat_minor": 2
}
