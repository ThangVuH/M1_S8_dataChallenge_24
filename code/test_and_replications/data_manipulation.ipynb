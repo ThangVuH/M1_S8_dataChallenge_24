{
 "cells": [
  {
   "cell_type": "code",
   "execution_count": 1,
   "metadata": {},
   "outputs": [],
   "source": [
    "import cv2\n",
    "import numpy as np\n",
    "import pandas as pd\n",
    "import matplotlib.pyplot as plt\n",
    "import torch\n",
    "import pickle"
   ]
  },
  {
   "cell_type": "markdown",
   "metadata": {},
   "source": [
    "Essential to run all this section: load the pickl of our experiment -- make sure to change the path ;) \n",
    "\n",
    "You can print level on and level two keys in case you have a doubt (cell 5) one can use these list to loop over the dataset  \n",
    "- Level 1 will let you chose which method you want to see: raw, or method 1, 2, or 3  (corresponding to each level of challenge)\n",
    "- Level 2 which of the 6 sequences\n"
   ]
  },
  {
   "cell_type": "code",
   "execution_count": 2,
   "metadata": {},
   "outputs": [],
   "source": [
    "def load_dict_of_dicts_pickle(filename):\n",
    "    with open(filename, 'rb') as f:\n",
    "        return pickle.load(f)"
   ]
  },
  {
   "cell_type": "code",
   "execution_count": 3,
   "metadata": {},
   "outputs": [],
   "source": [
    "data = load_dict_of_dicts_pickle(r\"C:\\Users\\WillQuantique\\OneDrive - univ-lyon2.fr\\Fac\\M1\\DataChallege\\git\\M1_S8_dataChallenge_24\\code\\test_jupyter_notebook\\data_for_metrics.pkl\")"
   ]
  },
  {
   "cell_type": "code",
   "execution_count": 4,
   "metadata": {},
   "outputs": [],
   "source": [
    "level_one_keys = list(data.keys())\n",
    "level_two_keys =[]\n",
    "for k in level_one_keys:\n",
    "    level_two_keys.extend(list(data[k].keys()))\n",
    "level_two_keys = set(level_two_keys)"
   ]
  },
  {
   "cell_type": "code",
   "execution_count": 5,
   "metadata": {},
   "outputs": [
    {
     "name": "stdout",
     "output_type": "stream",
     "text": [
      "['method_1', 'method_2', 'method_3', 'raw']\n",
      "{'car_scene_2', 'scene_1', 'car_scene_3', 'scene_3', 'car_scene_1', 'scene_2'}\n"
     ]
    }
   ],
   "source": [
    "print(level_one_keys)\n",
    "print(level_two_keys)"
   ]
  },
  {
   "cell_type": "code",
   "execution_count": 9,
   "metadata": {},
   "outputs": [],
   "source": [
    "\n",
    "def compartive_metrics_loop_(data, method: str,function, idx:int = 0 ):\n",
    "    \"\"\"\n",
    "    takes the name of a method (string) and a function\n",
    "    will measure and return a comparative mettric betwenn raw image and filtered image of index idx\n",
    "    in tha sequence.\n",
    "    theresults are returned in a list\n",
    "    if idx is none will compare the two complete sequences\n",
    "    \"\"\"\n",
    "\n",
    "    raw_images = data[\"raw\"]\n",
    "    method = data[method]\n",
    "\n",
    "    featured = {}\n",
    "    if idx is not None:\n",
    "        for k in level_two_keys:\n",
    "            raw_pic = raw_images[k][idx]\n",
    "            cal_pic = method[k][idx]\n",
    "            featured.update({k:function(raw_pic, cal_pic)})\n",
    "    else:\n",
    "        for k in level_two_keys:\n",
    "            raw_seq = raw_images[k]\n",
    "            cal_seq = method[k]\n",
    "            featured.update({k:function(raw_seq, cal_seq)})\n",
    "    return featured"
   ]
  },
  {
   "cell_type": "code",
   "execution_count": 10,
   "metadata": {},
   "outputs": [],
   "source": [
    "def single_metrics_loop_(data, method: str,function, idx:int = 0 ):\n",
    "    \"\"\"\n",
    "    same as the previous one but for non comparative metrics\n",
    "    \"\"\"\n",
    "    method = data[method]\n",
    "\n",
    "    featured = {}\n",
    "    if idx is not None:\n",
    "        for k in level_two_keys:\n",
    "            pic = method[k][idx]\n",
    "            featured.update({k:function(pic)})\n",
    "    else:\n",
    "        for k in level_two_keys:\n",
    "            seq = method[k]\n",
    "            featured.update({k:function(seq)})\n",
    "    return featured"
   ]
  },
  {
   "cell_type": "markdown",
   "metadata": {},
   "source": [
    "### Metrics\n",
    "\n",
    "Store all your metrics in this section"
   ]
  },
  {
   "cell_type": "code",
   "execution_count": 12,
   "metadata": {},
   "outputs": [],
   "source": [
    "def count_features(image: np.ndarray) -> int:\n",
    "    if image is None or image.size == 0:\n",
    "        return 0\n",
    "    if len(image.shape) != 2:\n",
    "        return 0\n",
    "    \n",
    "    # Convert to uint8 if not already\n",
    "    if image.dtype != np.uint8:\n",
    "        image = cv2.normalize(image, None, 0, 255, cv2.NORM_MINMAX).astype(np.uint8)\n",
    "    \n",
    "    orb = cv2.ORB_create()\n",
    "    keypoints = orb.detect(image, None)\n",
    "    return len(keypoints)\n",
    "\n",
    "def feature_ratio(raw,filtered):\n",
    "    return count_features(filtered)/count_features(raw)"
   ]
  }
 ],
 "metadata": {
  "kernelspec": {
   "display_name": "pythonProject",
   "language": "python",
   "name": "python3"
  },
  "language_info": {
   "codemirror_mode": {
    "name": "ipython",
    "version": 3
   },
   "file_extension": ".py",
   "mimetype": "text/x-python",
   "name": "python",
   "nbconvert_exporter": "python",
   "pygments_lexer": "ipython3",
   "version": "3.10.14"
  }
 },
 "nbformat": 4,
 "nbformat_minor": 2
}
