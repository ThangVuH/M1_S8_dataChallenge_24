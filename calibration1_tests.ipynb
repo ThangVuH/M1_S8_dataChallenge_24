{
 "cells": [
  {
   "cell_type": "markdown",
   "id": "c6aa1d6a",
   "metadata": {},
   "source": [
    "**Linear regression by pixel, cleaned up version of exploration 0.**"
   ]
  },
  {
   "cell_type": "code",
   "execution_count": 1,
   "id": "4b1e7b0d",
   "metadata": {},
   "outputs": [],
   "source": [
    "import cv2\n",
    "import numpy as np\n",
    "import pandas as pd\n",
    "import matplotlib.pyplot as plt\n",
    "import h5py\n",
    "import matplotlib.animation as animation\n",
    "from sklearn.linear_model import LinearRegression"
   ]
  },
  {
   "cell_type": "code",
   "execution_count": 2,
   "id": "b032ef24",
   "metadata": {},
   "outputs": [],
   "source": [
    "dataset_location = '../dataset/' # put the root or relative path to your dataset here"
   ]
  },
  {
   "cell_type": "code",
   "execution_count": 3,
   "id": "ea4fc024",
   "metadata": {},
   "outputs": [],
   "source": [
    "scene_df = pd.read_hdf(dataset_location + 'scene.hdf5')\n",
    "calibration_df = pd.read_hdf(dataset_location + 'calibration_set_1.hdf5')"
   ]
  },
  {
   "cell_type": "code",
   "execution_count": 9,
   "id": "363ebcda",
   "metadata": {},
   "outputs": [],
   "source": [
    "# Function to find the closest calibration image\n",
    "def find_closest_calibration_image(scene_temp, calibration_data):\n",
    "    calibration_temperatures = calibration_data['t_fpa'].values\n",
    "    closest_index = (np.abs(calibration_temperatures - scene_temp)).argmin()\n",
    "    return calibration_data.iloc[closest_index]['image']"
   ]
  },
  {
   "cell_type": "code",
   "execution_count": null,
   "id": "8c2872d3",
   "metadata": {},
   "outputs": [],
   "source": []
  },
  {
   "cell_type": "code",
   "execution_count": 13,
   "id": "9e32a94a",
   "metadata": {},
   "outputs": [
    {
     "name": "stderr",
     "output_type": "stream",
     "text": [
      "/var/folders/54/hy0k25rj3qq6wl3dn1jrwph00000gq/T/ipykernel_53373/3821169032.py:19: RuntimeWarning: invalid value encountered in cast\n",
      "  img_uint8 = cv2.normalize(img, None, 0, 255, cv2.NORM_MINMAX).astype('uint8')\n"
     ]
    }
   ],
   "source": [
    "def save_video_from_images(images, output_filename, fps=60):\n",
    "    \"\"\"\n",
    "    Save a sequence of images as a video.\n",
    "\n",
    "    Parameters:\n",
    "    images (list or array): List or array of images (each image should be a 2D or 3D NumPy array).\n",
    "    output_filename (str): Output video filename (e.g., 'output.avi').\n",
    "    fps (int): Frames per second for the video.\n",
    "    \"\"\"\n",
    "    # Get the dimensions of the images\n",
    "    height, width = images[0].shape[:2]\n",
    "\n",
    "    # Define the codec and create VideoWriter object\n",
    "    fourcc = cv2.VideoWriter_fourcc(*'XVID')\n",
    "    out = cv2.VideoWriter(output_filename, fourcc, fps, (width, height))\n",
    "\n",
    "    for img in images:\n",
    "        # Ensure image is in the correct format (uint8)\n",
    "        img_uint8 = cv2.normalize(img, None, 0, 255, cv2.NORM_MINMAX).astype('uint8')\n",
    "        # If the image is grayscale, convert it to BGR\n",
    "        if len(img_uint8.shape) == 2:\n",
    "            img_uint8 = cv2.cvtColor(img_uint8, cv2.COLOR_GRAY2BGR)\n",
    "        out.write(img_uint8)\n",
    "\n",
    "    # Release everything when the job is finished\n",
    "    out.release()\n",
    "\n",
    "output_filename = 'output-pixel-lr.avi'\n",
    "save_video_from_images(corrected_scene_images, output_filename)"
   ]
  }
 ],
 "metadata": {
  "kernelspec": {
   "display_name": "phelma",
   "language": "python",
   "name": "python3"
  },
  "language_info": {
   "codemirror_mode": {
    "name": "ipython",
    "version": 3
   },
   "file_extension": ".py",
   "mimetype": "text/x-python",
   "name": "python",
   "nbconvert_exporter": "python",
   "pygments_lexer": "ipython3",
   "version": "3.10.14"
  }
 },
 "nbformat": 4,
 "nbformat_minor": 5
}
